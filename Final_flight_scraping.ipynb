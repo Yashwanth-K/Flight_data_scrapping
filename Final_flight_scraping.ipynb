{
 "cells": [
  {
   "cell_type": "markdown",
   "metadata": {},
   "source": [
    "**Change the mail id and password to get the alert to your mail about the cheaptest flight for the day**"
   ]
  },
  {
   "cell_type": "code",
   "execution_count": 1,
   "metadata": {},
   "outputs": [],
   "source": [
    "from selenium import webdriver\n",
    "from selenium.webdriver.common.by import By\n",
    "from selenium.webdriver.common.keys import Keys\n",
    "from selenium.webdriver.common.action_chains import ActionChains\n",
    "\n",
    "import pandas as pd\n",
    "import re\n",
    "import time\n",
    "import datetime\n",
    "\n",
    "import smtplib\n",
    "from email.mime.multipart import MIMEMultipart\n"
   ]
  },
  {
   "cell_type": "code",
   "execution_count": 2,
   "metadata": {},
   "outputs": [],
   "source": [
    "browser = webdriver.Chrome(executable_path='C://chromedriver_win32/chromedriver.exe')\n",
    "#to maximise the window\n",
    "browser.maximize_window()"
   ]
  },
  {
   "cell_type": "code",
   "execution_count": 3,
   "metadata": {},
   "outputs": [],
   "source": [
    "#to select the type of tickets\n",
    "return_ticket = \"//label[@id='flight-type-roundtrip-label-hp-flight']\"\n",
    "one_way_ticket = \"//label[@id='flight-type-one-way-label-hp-flight']\"\n",
    "multi_ticket = \"//label[@id='flight-type-multi-dest-label-hp-flight']\""
   ]
  },
  {
   "cell_type": "markdown",
   "metadata": {},
   "source": [
    "### Ticket choice function"
   ]
  },
  {
   "cell_type": "code",
   "execution_count": 4,
   "metadata": {},
   "outputs": [],
   "source": [
    "def ticket_chooser(ticket):\n",
    "    try:\n",
    "        ticket_type = browser.find_element_by_xpath(ticket)\n",
    "        ticket_type.click()\n",
    "    except Exception as e:\n",
    "        pass"
   ]
  },
  {
   "cell_type": "markdown",
   "metadata": {},
   "source": [
    "### departure country choice"
   ]
  },
  {
   "cell_type": "code",
   "execution_count": 17,
   "metadata": {},
   "outputs": [],
   "source": [
    "def dep_country_chooser(dep_country):\n",
    "    fly_from = browser.find_element_by_xpath(\"//input[@id='flight-origin-hp-flight']\")\n",
    "    time.sleep(0.2)\n",
    "    fly_from.clear()\n",
    "    time.sleep(0.3)\n",
    "    fly_from.send_keys('  ' + dep_country)\n",
    "    time.sleep(0.4)\n",
    "#   to select the option from drop down when the origin/departure place is entered\n",
    "    first_item = browser.find_element_by_xpath(\"//a[@id='aria-option-0']\")\n",
    "    time.sleep(1)\n",
    "#   click the first option in drop down\n",
    "    first_item.click()"
   ]
  },
  {
   "cell_type": "markdown",
   "metadata": {},
   "source": [
    "## similarly for arrival country"
   ]
  },
  {
   "cell_type": "code",
   "execution_count": 18,
   "metadata": {},
   "outputs": [],
   "source": [
    "def arrival_country_chooser(arrival_country):\n",
    "    fly_to = browser.find_element_by_xpath(\"//input[@id='flight-destination-hp-flight']\")\n",
    "    time.sleep(0.2)\n",
    "    fly_to.clear()\n",
    "    time.sleep(0.3)\n",
    "    fly_to.send_keys('  ' + arrival_country)\n",
    "    time.sleep(0.4)\n",
    "    first_item = browser.find_element_by_xpath(\"//a[@id='aria-option-0']\")\n",
    "    time.sleep(1)\n",
    "    first_item.click()"
   ]
  },
  {
   "cell_type": "markdown",
   "metadata": {},
   "source": [
    "**Choosing the Departure and Return Dates**"
   ]
  },
  {
   "cell_type": "code",
   "execution_count": 7,
   "metadata": {},
   "outputs": [],
   "source": [
    "def dep_date_chooser(month, day, year):\n",
    "#   here you need to select the appropriate input id for dep_date as it chages for different ticet types\n",
    "    dep_date_button = browser.find_element_by_xpath(\"//input[@id='flight-departing-single-hp-flight']\")\n",
    "#   clear if any text present before and send the user entered values\n",
    "    dep_date_button.clear()\n",
    "    dep_date_button.send_keys(month + '/' + day + '/' + year)"
   ]
  },
  {
   "cell_type": "markdown",
   "metadata": {},
   "source": [
    "**Here we have used Keys.BACKSPACE which simply tells Python to click backspace (to delete whatever is written in the date field). I put it in a for loop to click backspace 11 times to delete all the characters for the date in the field.**"
   ]
  },
  {
   "cell_type": "code",
   "execution_count": 8,
   "metadata": {},
   "outputs": [],
   "source": [
    "def return_date_chooser(month, day, year):\n",
    "    return_date_button = browser.find_element_by_xpath(\"//input[@id='flight-returning-hp-flight']\")\n",
    "    for i in range(11):\n",
    "        return_date_button.send_keys(Keys.BACKSPACE)\n",
    "    return_date_button.send_keys(month + '/' + day + '/' + year)"
   ]
  },
  {
   "cell_type": "code",
   "execution_count": 9,
   "metadata": {},
   "outputs": [],
   "source": [
    "def search():\n",
    "    search = browser.find_element_by_xpath(\"//button[@class='btn-primary btn-action gcw-submit']\")\n",
    "#     browser.implicitly_wait(10)\n",
    "    close = browser.find_element_by_xpath(\"//button[@class='datepicker-close-btn close btn-text']\")\n",
    "    close.click()\n",
    "#     ActionChains(browser).move_to_element(search).click(search)\n",
    "    time.sleep(2)\n",
    "    search.click()\n",
    "    time.sleep(5)\n",
    "    print('Results ready!')"
   ]
  },
  {
   "cell_type": "markdown",
   "metadata": {},
   "source": [
    "### main scraping function "
   ]
  },
  {
   "cell_type": "code",
   "execution_count": 10,
   "metadata": {},
   "outputs": [],
   "source": [
    "df = pd.DataFrame()\n",
    "def compile_data():\n",
    "    global df\n",
    "    global dep_times_list\n",
    "    global arr_times_list\n",
    "    global airlines_list\n",
    "    global price_list\n",
    "    global durations_list\n",
    "    global stops_list\n",
    "    global layovers_list\n",
    "    \n",
    "    #departure times\n",
    "    dep_times = browser.find_elements_by_xpath(\"//span[@data-test-id='departure-time']\")\n",
    "    dep_times_list = [value.text for value in dep_times]\n",
    "    \n",
    "    #arrival times\n",
    "    arr_times = browser.find_elements_by_xpath(\"//span[@data-test-id='arrival-time']\")\n",
    "    arr_times_list = [value.text for value in arr_times]\n",
    "    \n",
    "    #airline name\n",
    "    airlines = browser.find_elements_by_xpath(\"//span[@data-test-id='airline-name']\")\n",
    "    airlines_list = [value.text for value in airlines]\n",
    "    \n",
    "    #prices\n",
    "    prices = browser.find_elements_by_xpath(\"//span[@data-test-id='listing-price-dollars']\")\n",
    "    price_list = [re.sub('[^0-9]',\"\",value.text) for value in prices]\n",
    "    \n",
    "    #durations\n",
    "    durations = browser.find_elements_by_xpath(\"//span[@data-test-id='duration']\")\n",
    "    durations_list = [value.text for value in durations]\n",
    "                                   \n",
    "    #stops\n",
    "    stops = browser.find_elements_by_xpath(\"//span[@class='number-stops']\")\n",
    "    stops_list = [value.text for value in stops]\n",
    "                                   \n",
    "    #layovers\n",
    "    layovers = browser.find_elements_by_xpath(\"//span[@data-test-id='flight-info']\")\n",
    "    layovers_list = [value.text for value in layovers]\n",
    "    \n",
    "    now = datetime.datetime.now()\n",
    "    current_date = (str(now.year) + '-' + str(now.month) + '-' + str(now.day))\n",
    "    current_time = (str(now.hour) + ':' + str(now.minute))\n",
    "    current_price = 'price' + '(' + current_date + '---' + current_time + ')'\n",
    "    \n",
    "    for i in range(len(dep_times_list)):\n",
    "        try:\n",
    "            df.loc[i, 'departure_time'] = dep_times_list[i]\n",
    "        except Exception as e:\n",
    "            pass\n",
    "        try:\n",
    "            df.loc[i, 'arrival_time'] = arr_times_list[i]\n",
    "        except Exception as e:\n",
    "            pass\n",
    "        try:\n",
    "            df.loc[i, 'airline'] = airlines_list[i]\n",
    "        except Exception as e:\n",
    "            pass\n",
    "        try:\n",
    "            df.loc[i, 'duration'] = durations_list[i]\n",
    "        except Exception as e:\n",
    "            pass\n",
    "        try:\n",
    "            df.loc[i, 'stops'] = stops_list[i]\n",
    "        except Exception as e:\n",
    "            pass\n",
    "        try:\n",
    "            df.loc[i, 'layovers'] = layovers_list[i]\n",
    "        except Exception as e:\n",
    "            pass\n",
    "        try:\n",
    "            df.loc[i, str(current_price)] = price_list[i]\n",
    "        except Exception as e:\n",
    "            pass\n",
    "    print('Excel Sheet Created!')"
   ]
  },
  {
   "cell_type": "markdown",
   "metadata": {},
   "source": [
    "### enter your mail and password for getting a mail alert"
   ]
  },
  {
   "cell_type": "code",
   "execution_count": 11,
   "metadata": {},
   "outputs": [],
   "source": [
    "#email credentials\n",
    "username = 'xxxx@gmail.com'\n",
    "password = 'xxxx'"
   ]
  },
  {
   "cell_type": "code",
   "execution_count": 12,
   "metadata": {},
   "outputs": [],
   "source": [
    "\n",
    "def connect_mail(username, password):\n",
    "    global server\n",
    "    server = smtplib.SMTP('smtp.gmail.com', 587)\n",
    "    server.ehlo()\n",
    "    server.starttls()\n",
    "    server.login(username, password)"
   ]
  },
  {
   "cell_type": "code",
   "execution_count": 13,
   "metadata": {},
   "outputs": [],
   "source": [
    "#Create message template for email\n",
    "def create_msg():\n",
    "    global msg\n",
    "    msg = '\\nCurrent Cheapest flight:\\n\\nDeparture time: {}\\nArrival time: {}\\nAirline: {}\\nFlight duration: {}\\nNo. of stops: {}\\nPrice: {}\\n'.format(cheapest_dep_time,\n",
    "                       cheapest_arrival_time,\n",
    "                       cheapest_airline,\n",
    "                       cheapest_duration,\n",
    "                       cheapest_stops,\n",
    "                       cheapest_price)"
   ]
  },
  {
   "cell_type": "code",
   "execution_count": 14,
   "metadata": {},
   "outputs": [],
   "source": [
    "def send_email(msg):\n",
    "    global message\n",
    "    message = MIMEMultipart()\n",
    "    message['Subject'] = 'Current Best flight'\n",
    "    message['From'] = 'ur@gmail.com'\n",
    "    message['to'] = 'ur@gmail.com'\n",
    "    server.sendmail('ur@gmail.com','ur@gmail.com', msg)\n",
    "    login=browser.find_element_by_xpath(\"//form[@id='continue']\")"
   ]
  },
  {
   "cell_type": "markdown",
   "metadata": {},
   "source": [
    "#### here I get SMTP error as I have not mentioned proper mail ID and password, so I've added it to the try exception block"
   ]
  },
  {
   "cell_type": "code",
   "execution_count": 20,
   "metadata": {},
   "outputs": [
    {
     "name": "stdout",
     "output_type": "stream",
     "text": [
      "\n",
      "\n",
      "enter month/day/year 08/10/2019\n",
      "Results ready!\n",
      "Excel Sheet Created!\n",
      "run 0 completed!\n",
      "Your account name or password is incorrect, please try again using the correct stuff\n"
     ]
    }
   ],
   "source": [
    "try:\n",
    "    for i in range(1):    \n",
    "        link = 'https://www.expedia.com/'\n",
    "        browser.get(link)\n",
    "        time.sleep(2)\n",
    "        #choose flights only\n",
    "        flights_only = browser.find_element_by_xpath(\"//button[@id='tab-flight-tab-hp']\")\n",
    "        flights_only.click()\n",
    "        ticket_chooser(one_way_ticket)\n",
    "        dep_country=(input() or \"bangalore\")\n",
    "        arv_country=(input() or \"boston\")\n",
    "        dep_date=input(\"enter month/day/year \")\n",
    "        if len(dep_date)==0:\n",
    "            dep_date=(datetime.date.today()).strftime(\"%m/%d/%Y\").split(\"/\")\n",
    "        else:\n",
    "            dep_date=dep_date.split(\"/\")\n",
    "        # arv_date=input(\"enter month-day-year \").split(\"-\")\n",
    "        dep_country_chooser(dep_country)\n",
    "        arrival_country_chooser(arv_country)\n",
    "        dep_date_chooser(dep_date[0],dep_date[1],dep_date[2])\n",
    "        # return_date_chooser(arv_date[0],arv_date[1],arv_date[2])\n",
    "        # dep_date_chooser('08', '12', '2019')\n",
    "        search()\n",
    "        compile_data()\n",
    "        #save values for email\n",
    "        current_values = df.iloc[0]\n",
    "        cheapest_dep_time = current_values[0]\n",
    "        cheapest_arrival_time = current_values[1]\n",
    "        cheapest_airline = current_values[2]\n",
    "        cheapest_duration = current_values[3]\n",
    "        cheapest_stops = current_values[4]\n",
    "        cheapest_price = current_values[-1]\n",
    "        print('run {} completed!'.format(i))\n",
    "        create_msg()\n",
    "        connect_mail(username,password)\n",
    "        send_email(msg)\n",
    "        print('Email sent!')\n",
    "        df.to_excel('flights_from_{}_to_{}.xlsx'.format())\n",
    "        time.sleep(3)\n",
    "except smtplib.SMTPAuthenticationError:\n",
    "    print('Your account name or password is incorrect, please try again using the correct stuff')"
   ]
  },
  {
   "cell_type": "markdown",
   "metadata": {},
   "source": [
    "Finally we get a excel sheet having data for different intervals. In my program I've mentioned for time.sleep(3) which is 3 seconds to check but you can make it for 1 hr interval for 1 month and perform price analysis for the flight tickets. \n",
    "This code also sends you mail about the cheapest flight fro that hour."
   ]
  },
  {
   "cell_type": "code",
   "execution_count": null,
   "metadata": {},
   "outputs": [],
   "source": []
  }
 ],
 "metadata": {
  "kernelspec": {
   "display_name": "Python 3",
   "language": "python",
   "name": "python3"
  },
  "language_info": {
   "codemirror_mode": {
    "name": "ipython",
    "version": 3
   },
   "file_extension": ".py",
   "mimetype": "text/x-python",
   "name": "python",
   "nbconvert_exporter": "python",
   "pygments_lexer": "ipython3",
   "version": "3.7.3"
  }
 },
 "nbformat": 4,
 "nbformat_minor": 2
}
